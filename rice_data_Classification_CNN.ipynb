{
 "cells": [
  {
   "cell_type": "code",
   "execution_count": 3,
   "id": "1a1cad01",
   "metadata": {},
   "outputs": [],
   "source": [
    "import numpy as np\n",
    "import pandas as pd\n",
    "import os\n",
    "import matplotlib.pyplot as plt\n",
    "import seaborn as sns\n",
    "import random as rd\n",
    "import glob\n",
    "import cv2"
   ]
  },
  {
   "cell_type": "code",
   "execution_count": 69,
   "id": "4221cc7e",
   "metadata": {},
   "outputs": [],
   "source": [
    "Arborio=glob.glob(r\"D:\\envs\\worked\\arif\\arif\\archive (6)\\Rice_Image_Dataset\\Arborio/*.*\")\n",
    "Basmati=glob.glob(r\"D:\\envs\\worked\\arif\\arif\\archive (6)\\Rice_Image_Dataset\\Basmati/*.*\")\n",
    "Ipsala=glob.glob(r\"D:\\envs\\worked\\arif\\arif\\archive (6)\\Rice_Image_Dataset\\Ipsala/*.*\")\n",
    "Jasmine=glob.glob(r\"D:\\envs\\worked\\arif\\arif\\archive (6)\\Rice_Image_Dataset\\Jasmine/*.*\")\n",
    "Karacadag=glob.glob(r\"D:\\envs\\worked\\arif\\arif\\archive (6)\\Rice_Image_Dataset\\Karacadag/*.*\")"
   ]
  },
  {
   "cell_type": "markdown",
   "id": "f3b711e2",
   "metadata": {},
   "source": [
    "ls=['Arborio','Basmati','Ipsala','Jasmine','Karacadag']\n",
    "os.chdir(r\"D:\\envs\\worked\\arif\\arif\\archive (6)\\Rice_Image_Dataset\\New folder\")\n",
    "lis=os.listdir()\n",
    "for i in lis:\n",
    "    os.chdir(r\"D:\\envs\\worked\\arif\\arif\\archive (6)\\Rice_Image_Dataset\\New folder\\\\\"+i)\n",
    "    for j in ls:\n",
    "        os.mkdir(r\"D:\\envs\\worked\\arif\\arif\\archive (6)\\Rice_Image_Dataset\\New folder\\\\\"+i+\"\\\\\"+j)"
   ]
  },
  {
   "cell_type": "code",
   "execution_count": 70,
   "id": "667d1480",
   "metadata": {},
   "outputs": [],
   "source": [
    "os.chdir(r\"D:\\envs\\worked\\arif\\arif\\archive (6)\\Rice_Image_Dataset\")\n",
    "type=os.listdir()\n",
    "z1=[]\n",
    "for i in type[:5]:\n",
    "    x1=rd.sample(range(len(locals()[i])),k=2000)\n",
    "    z=0\n",
    "    for j in x1:\n",
    "        img=cv2.imread(locals()[i][j])\n",
    "        cv2.imwrite(r\"D:\\envs\\worked\\arif\\arif\\archive (6)\\Rice_Image_Dataset\\New folder\\train\\\\\"+i+\"\\\\\"+i+\"{}.jpg\".format(z),img)\n",
    "        z=z+1\n",
    "        z1.append(locals()[i][j])"
   ]
  },
  {
   "cell_type": "code",
   "execution_count": 71,
   "id": "6f140af4",
   "metadata": {},
   "outputs": [
    {
     "data": {
      "text/plain": [
       "10000"
      ]
     },
     "execution_count": 71,
     "metadata": {},
     "output_type": "execute_result"
    }
   ],
   "source": [
    "len(z1)"
   ]
  },
  {
   "cell_type": "code",
   "execution_count": 21,
   "id": "6fd2bdfa",
   "metadata": {},
   "outputs": [
    {
     "name": "stdout",
     "output_type": "stream",
     "text": [
      "Arborio\n",
      "15000\n",
      "Basmati\n",
      "15000\n",
      "Ipsala\n",
      "15000\n",
      "Jasmine\n",
      "15000\n",
      "Karacadag\n",
      "15000\n"
     ]
    }
   ],
   "source": [
    "for i in type[:5]:\n",
    "    print(i)\n",
    "    print(len(locals()[i]))\n",
    "    "
   ]
  },
  {
   "cell_type": "code",
   "execution_count": 13,
   "id": "ba02e14f",
   "metadata": {},
   "outputs": [
    {
     "data": {
      "text/plain": [
       "['Arborio', 'Basmati', 'Ipsala', 'Jasmine', 'Karacadag']"
      ]
     },
     "execution_count": 13,
     "metadata": {},
     "output_type": "execute_result"
    }
   ],
   "source": [
    "type[:5]"
   ]
  },
  {
   "cell_type": "code",
   "execution_count": 72,
   "id": "d6cbf63b",
   "metadata": {},
   "outputs": [
    {
     "name": "stdout",
     "output_type": "stream",
     "text": [
      "13000\n",
      "13000\n",
      "13000\n",
      "13000\n",
      "13000\n"
     ]
    }
   ],
   "source": [
    "ls=['Arborio','Basmati','Ipsala','Jasmine','Karacadag']\n",
    "\n",
    "for i in type[:5]:\n",
    "    a=locals()[i]\n",
    "    locals()[i]=list(set(locals()[i]).difference(z1))\n",
    "    print(len(locals()[i]))"
   ]
  },
  {
   "cell_type": "code",
   "execution_count": 68,
   "id": "9dee6d3d",
   "metadata": {},
   "outputs": [
    {
     "name": "stdout",
     "output_type": "stream",
     "text": [
      "15000\n",
      "Arborio\n"
     ]
    }
   ],
   "source": [
    "print(len(locals()[type[0]]))\n",
    "print(type[0])"
   ]
  },
  {
   "cell_type": "code",
   "execution_count": 42,
   "id": "712cc5da",
   "metadata": {},
   "outputs": [
    {
     "name": "stdout",
     "output_type": "stream",
     "text": [
      "15000\n"
     ]
    }
   ],
   "source": [
    "print(len(list(set(Arborio).difference(z1))))"
   ]
  },
  {
   "cell_type": "code",
   "execution_count": 58,
   "id": "390ce469",
   "metadata": {},
   "outputs": [
    {
     "ename": "SyntaxError",
     "evalue": "cannot assign to operator (2808856243.py, line 7)",
     "output_type": "error",
     "traceback": [
      "\u001b[1;36m  File \u001b[1;32m\"C:\\Users\\user\\AppData\\Local\\Temp\\ipykernel_5832\\2808856243.py\"\u001b[1;36m, line \u001b[1;32m7\u001b[0m\n\u001b[1;33m    b+str(i)=list(set(a).difference(z11))\u001b[0m\n\u001b[1;37m    ^\u001b[0m\n\u001b[1;31mSyntaxError\u001b[0m\u001b[1;31m:\u001b[0m cannot assign to operator\n"
     ]
    }
   ],
   "source": [
    "z11=[]\n",
    "for i in type[:5]:\n",
    "    a=locals()[i]\n",
    "    print(len(locals()[i]))\n",
    "    for j in range(100):\n",
    "        z11.append(a[j])\n",
    "        b+str(i)=list(set(a).difference(z11))\n",
    "print(len(z11))"
   ]
  },
  {
   "cell_type": "code",
   "execution_count": 73,
   "id": "e35c483e",
   "metadata": {},
   "outputs": [],
   "source": [
    "z2=[]\n",
    "for i in type[:5]:\n",
    "    x1=rd.sample(range(len(locals()[i])),k=500)\n",
    "    z=0\n",
    "    for j in x1:\n",
    "        img=cv2.imread(locals()[i][j])\n",
    "        cv2.imwrite(r\"D:\\envs\\worked\\arif\\arif\\archive (6)\\Rice_Image_Dataset\\New folder\\test\\\\\"+i+\"\\\\\"+i+\"{}.jpg\".format(z),img)\n",
    "        z=z+1\n",
    "        z2.append(locals()[i][j])"
   ]
  },
  {
   "cell_type": "code",
   "execution_count": 75,
   "id": "ff81d6d0",
   "metadata": {},
   "outputs": [
    {
     "name": "stdout",
     "output_type": "stream",
     "text": [
      "12500\n",
      "12500\n",
      "12500\n",
      "12500\n",
      "12500\n"
     ]
    }
   ],
   "source": [
    "for i in type[:5]:\n",
    "    locals()[i]=list(set(locals()[i]).difference(z2))\n",
    "    print(len(locals()[i]))"
   ]
  },
  {
   "cell_type": "code",
   "execution_count": 76,
   "id": "471bcaaf",
   "metadata": {},
   "outputs": [],
   "source": [
    "z3=[]\n",
    "for i in type[:5]:\n",
    "    x1=rd.sample(range(len(locals()[i])),k=500)\n",
    "    z=0\n",
    "    for j in x1:\n",
    "        img=cv2.imread(locals()[i][j])\n",
    "        cv2.imwrite(r\"D:\\envs\\worked\\arif\\arif\\archive (6)\\Rice_Image_Dataset\\New folder\\valid\\\\\"+i+\"\\\\\"+i+\"{}.jpg\".format(z),img)\n",
    "        z=z+1\n",
    "        z3.append(locals()[i][j])"
   ]
  },
  {
   "cell_type": "code",
   "execution_count": 78,
   "id": "7a33c29e",
   "metadata": {},
   "outputs": [
    {
     "name": "stdout",
     "output_type": "stream",
     "text": [
      "12000\n",
      "12000\n",
      "12000\n",
      "12000\n",
      "12000\n"
     ]
    }
   ],
   "source": [
    "for i in type[:5]:\n",
    "    locals()[i]=list(set(locals()[i]).difference(z3))\n",
    "    print(len(locals()[i]))"
   ]
  },
  {
   "cell_type": "code",
   "execution_count": 79,
   "id": "850a24e9",
   "metadata": {},
   "outputs": [],
   "source": [
    "from keras.preprocessing.image import ImageDataGenerator"
   ]
  },
  {
   "cell_type": "code",
   "execution_count": 80,
   "id": "b6fe577e",
   "metadata": {},
   "outputs": [
    {
     "name": "stdout",
     "output_type": "stream",
     "text": [
      "Found 10000 images belonging to 5 classes.\n",
      "Found 2500 images belonging to 5 classes.\n",
      "Found 2500 images belonging to 5 classes.\n"
     ]
    }
   ],
   "source": [
    "train_data=ImageDataGenerator(\n",
    "rescale=1/255,\n",
    "zoom_range=0.2,\n",
    "shear_range=0.2,\n",
    "rotation_range=50\n",
    ")\n",
    "\n",
    "train_gen=train_data.flow_from_directory(\n",
    "r\"D:\\envs\\worked\\arif\\arif\\archive (6)\\Rice_Image_Dataset\\New folder\\train\",\n",
    "target_size=(200,200),\n",
    "batch_size=10,\n",
    "class_mode=\"categorical\"\n",
    ")\n",
    "\n",
    "validation_data=ImageDataGenerator(\n",
    "rescale=1/255)\n",
    "\n",
    "validation_gen=validation_data.flow_from_directory(\n",
    "r\"D:\\envs\\worked\\arif\\arif\\archive (6)\\Rice_Image_Dataset\\New folder\\valid\",\n",
    "target_size=(200,200),\n",
    "batch_size=10,\n",
    "class_mode=\"categorical\")\n",
    "\n",
    "test_data=ImageDataGenerator(\n",
    "rescale=1/255)\n",
    "\n",
    "test_gen=test_data.flow_from_directory(\n",
    "r\"D:\\envs\\worked\\arif\\arif\\archive (6)\\Rice_Image_Dataset\\New folder\\test\",\n",
    "target_size=(200,200),\n",
    "batch_size=10,\n",
    "class_mode=\"categorical\")"
   ]
  },
  {
   "cell_type": "code",
   "execution_count": 81,
   "id": "dde69a8f",
   "metadata": {},
   "outputs": [],
   "source": [
    "import keras\n",
    "from keras.models import Sequential\n",
    "from keras.layers import Dense,Conv2D,MaxPooling2D,Flatten,Dropout,Activation"
   ]
  },
  {
   "cell_type": "code",
   "execution_count": 83,
   "id": "a2b8ba3c",
   "metadata": {},
   "outputs": [],
   "source": [
    "model=Sequential()\n",
    "model.add(Conv2D(32,(3,3),activation=\"relu\",input_shape=(200,200,3)))\n",
    "model.add(MaxPooling2D(pool_size=(3,3)))\n",
    "\n",
    "model.add(Conv2D(64,(3,3),activation=\"relu\"))\n",
    "model.add(MaxPooling2D(pool_size=(3,3)))\n",
    "\n",
    "model.add(Conv2D(128,(3,3),activation=\"relu\"))\n",
    "model.add(MaxPooling2D(pool_size=(3,3)))\n",
    "\n",
    "model.add(Flatten())\n",
    "\n",
    "model.add(Dense(128,activation=\"relu\",kernel_initializer=\"he_uniform\"))\n",
    "model.add(Dense(5,activation=\"softmax\"))\n",
    "\n",
    "model.compile(optimizer=\"Adam\",loss=\"categorical_crossentropy\",metrics=[\"accuracy\"])"
   ]
  },
  {
   "cell_type": "code",
   "execution_count": 85,
   "id": "49a978ed",
   "metadata": {},
   "outputs": [
    {
     "name": "stderr",
     "output_type": "stream",
     "text": [
      "C:\\Users\\user\\AppData\\Local\\Temp\\ipykernel_5832\\3307460756.py:1: UserWarning: `Model.fit_generator` is deprecated and will be removed in a future version. Please use `Model.fit`, which supports generators.\n",
      "  model.fit_generator(train_gen,\n"
     ]
    },
    {
     "name": "stdout",
     "output_type": "stream",
     "text": [
      "Epoch 1/9\n",
      "1000/1000 [==============================] - 484s 482ms/step - loss: 0.4966 - accuracy: 0.7893 - val_loss: 0.2425 - val_accuracy: 0.8948\n",
      "Epoch 2/9\n",
      "1000/1000 [==============================] - 399s 399ms/step - loss: 0.3551 - accuracy: 0.8548 - val_loss: 0.5895 - val_accuracy: 0.7948\n",
      "Epoch 3/9\n",
      "1000/1000 [==============================] - 1754s 2s/step - loss: 0.2705 - accuracy: 0.8883 - val_loss: 1.8010 - val_accuracy: 0.5888\n",
      "Epoch 4/9\n",
      "1000/1000 [==============================] - 399s 399ms/step - loss: 0.2283 - accuracy: 0.9109 - val_loss: 0.6816 - val_accuracy: 0.7972\n",
      "Epoch 5/9\n",
      "1000/1000 [==============================] - 1393s 1s/step - loss: 0.1793 - accuracy: 0.9328 - val_loss: 1.2647 - val_accuracy: 0.6820\n",
      "Epoch 6/9\n",
      "1000/1000 [==============================] - 388s 388ms/step - loss: 0.1073 - accuracy: 0.9601 - val_loss: 1.8985 - val_accuracy: 0.6504\n",
      "Epoch 7/9\n",
      "1000/1000 [==============================] - 414s 414ms/step - loss: 0.0925 - accuracy: 0.9673 - val_loss: 2.0387 - val_accuracy: 0.6868\n",
      "Epoch 8/9\n",
      "1000/1000 [==============================] - 437s 437ms/step - loss: 0.0683 - accuracy: 0.9746 - val_loss: 2.2389 - val_accuracy: 0.7124\n",
      "Epoch 9/9\n",
      "1000/1000 [==============================] - 372s 372ms/step - loss: 0.0578 - accuracy: 0.9794 - val_loss: 0.5963 - val_accuracy: 0.8688\n"
     ]
    },
    {
     "data": {
      "text/plain": [
       "<keras.callbacks.History at 0x213916aa2e0>"
      ]
     },
     "execution_count": 85,
     "metadata": {},
     "output_type": "execute_result"
    }
   ],
   "source": [
    "model.fit_generator(train_gen,\n",
    "steps_per_epoch=10000//10,\n",
    "epochs=9,\n",
    "validation_data=validation_gen,\n",
    "validation_steps=2500//10\n",
    ")\n"
   ]
  },
  {
   "cell_type": "code",
   "execution_count": 87,
   "id": "faacc7ef",
   "metadata": {},
   "outputs": [
    {
     "name": "stderr",
     "output_type": "stream",
     "text": [
      "C:\\Users\\user\\AppData\\Local\\Temp\\ipykernel_5832\\3920543610.py:1: UserWarning: `Model.evaluate_generator` is deprecated and will be removed in a future version. Please use `Model.evaluate`, which supports generators.\n",
      "  model.evaluate_generator(test_gen,\n"
     ]
    },
    {
     "data": {
      "text/plain": [
       "[0.6091487407684326, 0.8551999926567078]"
      ]
     },
     "execution_count": 87,
     "metadata": {},
     "output_type": "execute_result"
    }
   ],
   "source": [
    "model.evaluate_generator(test_gen,\n",
    "steps=2500//10)"
   ]
  },
  {
   "cell_type": "code",
   "execution_count": 89,
   "id": "bc5231d7",
   "metadata": {},
   "outputs": [
    {
     "data": {
      "text/plain": [
       "12000"
      ]
     },
     "execution_count": 89,
     "metadata": {},
     "output_type": "execute_result"
    }
   ],
   "source": [
    "len(locals()[type[0]])"
   ]
  },
  {
   "cell_type": "code",
   "execution_count": null,
   "id": "139d3f18",
   "metadata": {},
   "outputs": [],
   "source": []
  }
 ],
 "metadata": {
  "kernelspec": {
   "display_name": "Python 3 (ipykernel)",
   "language": "python",
   "name": "python3"
  },
  "language_info": {
   "codemirror_mode": {
    "name": "ipython",
    "version": 3
   },
   "file_extension": ".py",
   "mimetype": "text/x-python",
   "name": "python",
   "nbconvert_exporter": "python",
   "pygments_lexer": "ipython3",
   "version": "3.9.13"
  }
 },
 "nbformat": 4,
 "nbformat_minor": 5
}
